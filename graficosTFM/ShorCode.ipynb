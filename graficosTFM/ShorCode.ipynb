{
 "cells": [
  {
   "cell_type": "code",
   "execution_count": 3,
   "id": "85ab70f3-4401-43d3-991c-45a446c4c45b",
   "metadata": {},
   "outputs": [
    {
     "ename": "ModuleNotFoundError",
     "evalue": "No module named 'qiskit.providers.aer'",
     "output_type": "error",
     "traceback": [
      "\u001b[0;31m---------------------------------------------------------------------------\u001b[0m",
      "\u001b[0;31mModuleNotFoundError\u001b[0m                       Traceback (most recent call last)",
      "Cell \u001b[0;32mIn[3], line 5\u001b[0m\n\u001b[1;32m      3\u001b[0m \u001b[38;5;28;01mfrom\u001b[39;00m \u001b[38;5;21;01mqiskit\u001b[39;00m \u001b[38;5;28;01mimport\u001b[39;00m QuantumCircuit\n\u001b[1;32m      4\u001b[0m \u001b[38;5;28;01mfrom\u001b[39;00m \u001b[38;5;21;01mqiskit\u001b[39;00m\u001b[38;5;21;01m.\u001b[39;00m\u001b[38;5;21;01mtools\u001b[39;00m\u001b[38;5;21;01m.\u001b[39;00m\u001b[38;5;21;01mmonitor\u001b[39;00m \u001b[38;5;28;01mimport\u001b[39;00m job_monitor\n\u001b[0;32m----> 5\u001b[0m \u001b[38;5;28;01mfrom\u001b[39;00m \u001b[38;5;21;01mqiskit\u001b[39;00m\u001b[38;5;21;01m.\u001b[39;00m\u001b[38;5;21;01mproviders\u001b[39;00m\u001b[38;5;21;01m.\u001b[39;00m\u001b[38;5;21;01maer\u001b[39;00m \u001b[38;5;28;01mimport\u001b[39;00m QasmSimulator\n\u001b[1;32m      8\u001b[0m q \u001b[38;5;241m=\u001b[39m QuantumRegister(\u001b[38;5;241m9\u001b[39m,\u001b[38;5;124m'\u001b[39m\u001b[38;5;124mq\u001b[39m\u001b[38;5;124m'\u001b[39m)\n\u001b[1;32m      9\u001b[0m c \u001b[38;5;241m=\u001b[39m ClassicalRegister(\u001b[38;5;241m1\u001b[39m,\u001b[38;5;124m'\u001b[39m\u001b[38;5;124mc\u001b[39m\u001b[38;5;124m'\u001b[39m)\n",
      "\u001b[0;31mModuleNotFoundError\u001b[0m: No module named 'qiskit.providers.aer'"
     ]
    }
   ],
   "source": [
    "from qiskit import QuantumRegister\n",
    "from qiskit import ClassicalRegister\n",
    "from qiskit import QuantumCircuit\n",
    "from qiskit.tools.monitor import job_monitor\n",
    "from qiskit.providers.aer import QasmSimulator\n",
    "\n",
    "\n",
    "q = QuantumRegister(9,'q')\n",
    "c = ClassicalRegister(1,'c')\n",
    "\n",
    "circuit = QuantumCircuit(q,c)\n",
    "\n",
    "circuit.cx(q[0],q[3])\n",
    "circuit.cx(q[0],q[6])\n",
    "\n",
    "circuit.h(q[0])\n",
    "circuit.h(q[3])\n",
    "circuit.h(q[6])\n",
    "\n",
    "circuit.cx(q[0],q[1])\n",
    "circuit.cx(q[3],q[4])\n",
    "circuit.cx(q[6],q[7])\n",
    "\n",
    "circuit.cx(q[0],q[2])\n",
    "circuit.cx(q[3],q[5])\n",
    "circuit.cx(q[6],q[8])\n",
    "circuit.save_statevector()\n",
    "circuit.barrier(q)\n",
    "\n",
    "backend = QasmSimulator()\n",
    "backend_options = {'method': 'statevector'}\n",
    "job = execute(circuit, backend, backend_options=backend_options)\n",
    "job_result = job.result()\n",
    "print(job_result.get_statevector(qc))"
   ]
  },
  {
   "cell_type": "code",
   "execution_count": null,
   "id": "24a51c37-4106-4ea2-9ad6-efa32ae08a61",
   "metadata": {},
   "outputs": [],
   "source": []
  }
 ],
 "metadata": {
  "kernelspec": {
   "display_name": "Python 3 (ipykernel)",
   "language": "python",
   "name": "python3"
  },
  "language_info": {
   "codemirror_mode": {
    "name": "ipython",
    "version": 3
   },
   "file_extension": ".py",
   "mimetype": "text/x-python",
   "name": "python",
   "nbconvert_exporter": "python",
   "pygments_lexer": "ipython3",
   "version": "3.10.12"
  }
 },
 "nbformat": 4,
 "nbformat_minor": 5
}
